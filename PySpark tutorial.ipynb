{
 "cells": [
  {
   "cell_type": "code",
   "execution_count": 1,
   "metadata": {},
   "outputs": [],
   "source": [
    "# import SparkSession\n",
    "from pyspark.sql import SparkSession"
   ]
  },
  {
   "cell_type": "code",
   "execution_count": 2,
   "metadata": {},
   "outputs": [],
   "source": [
    "# initaiate spark Session by which we shall perform Analysis.\n",
    "spark = SparkSession.builder.appName(\"PySparkApp\").getOrCreate()"
   ]
  },
  {
   "cell_type": "code",
   "execution_count": 3,
   "metadata": {},
   "outputs": [
    {
     "data": {
      "text/html": [
       "\n",
       "            <div>\n",
       "                <p><b>SparkSession - in-memory</b></p>\n",
       "                \n",
       "        <div>\n",
       "            <p><b>SparkContext</b></p>\n",
       "\n",
       "            <p><a href=\"http://192.168.0.2:4040\">Spark UI</a></p>\n",
       "\n",
       "            <dl>\n",
       "              <dt>Version</dt>\n",
       "                <dd><code>v3.2.1</code></dd>\n",
       "              <dt>Master</dt>\n",
       "                <dd><code>local[*]</code></dd>\n",
       "              <dt>AppName</dt>\n",
       "                <dd><code>PySparkApp</code></dd>\n",
       "            </dl>\n",
       "        </div>\n",
       "        \n",
       "            </div>\n",
       "        "
      ],
      "text/plain": [
       "<pyspark.sql.session.SparkSession at 0x7fc35d335b90>"
      ]
     },
     "execution_count": 3,
     "metadata": {},
     "output_type": "execute_result"
    }
   ],
   "source": [
    "spark"
   ]
  },
  {
   "cell_type": "code",
   "execution_count": 4,
   "metadata": {},
   "outputs": [],
   "source": [
    "#read csv file\n",
    "df = spark.read.csv(\"dataR2.csv\", inferSchema=True, header=True)"
   ]
  },
  {
   "cell_type": "code",
   "execution_count": 5,
   "metadata": {},
   "outputs": [
    {
     "data": {
      "text/plain": [
       "116"
      ]
     },
     "execution_count": 5,
     "metadata": {},
     "output_type": "execute_result"
    }
   ],
   "source": [
    "# count number of rows\n",
    "df.count()"
   ]
  },
  {
   "cell_type": "code",
   "execution_count": 6,
   "metadata": {},
   "outputs": [
    {
     "name": "stdout",
     "output_type": "stream",
     "text": [
      "+---+-----------+-------+-------+-----------+-------+-----------+--------+-------+--------------+\n",
      "|Age|        BMI|Glucose|Insulin|       HOMA| Leptin|Adiponectin|Resistin|  MCP.1|Classification|\n",
      "+---+-----------+-------+-------+-----------+-------+-----------+--------+-------+--------------+\n",
      "| 48|       23.5|     70|  2.707|0.467408667| 8.8071|     9.7024| 7.99585|417.114|             1|\n",
      "| 83|20.69049454|     92|  3.115|0.706897333| 8.8438|   5.429285| 4.06405|468.786|             1|\n",
      "| 82|23.12467037|     91|  4.498|1.009651067|17.9393|   22.43204| 9.27715|554.697|             1|\n",
      "| 68|21.36752137|     77|  3.226|0.612724933| 9.8827|    7.16956|  12.766| 928.22|             1|\n",
      "| 86|21.11111111|     92|  3.549|  0.8053864| 6.6994|    4.81924|10.57635| 773.92|             1|\n",
      "+---+-----------+-------+-------+-----------+-------+-----------+--------+-------+--------------+\n",
      "only showing top 5 rows\n",
      "\n"
     ]
    }
   ],
   "source": [
    "#b show the first five rows in the table\n",
    "df.show(5)"
   ]
  },
  {
   "cell_type": "code",
   "execution_count": 7,
   "metadata": {},
   "outputs": [
    {
     "name": "stdout",
     "output_type": "stream",
     "text": [
      "+-------+\n",
      "|Glucose|\n",
      "+-------+\n",
      "|     70|\n",
      "|     92|\n",
      "|     91|\n",
      "+-------+\n",
      "only showing top 3 rows\n",
      "\n"
     ]
    }
   ],
   "source": [
    "# select a column\n",
    "df.select(\"Glucose\").show(3)"
   ]
  },
  {
   "cell_type": "code",
   "execution_count": 8,
   "metadata": {},
   "outputs": [
    {
     "name": "stdout",
     "output_type": "stream",
     "text": [
      "+---+-----------+-------+\n",
      "|Age|        BMI|Glucose|\n",
      "+---+-----------+-------+\n",
      "| 48|       23.5|     70|\n",
      "| 83|20.69049454|     92|\n",
      "| 82|23.12467037|     91|\n",
      "+---+-----------+-------+\n",
      "only showing top 3 rows\n",
      "\n"
     ]
    }
   ],
   "source": [
    "# select columns\n",
    "df.select([\"Age\",\"BMI\",\"Glucose\"]).show(3)"
   ]
  },
  {
   "cell_type": "code",
   "execution_count": 9,
   "metadata": {},
   "outputs": [
    {
     "name": "stdout",
     "output_type": "stream",
     "text": [
      "root\n",
      " |-- Age: integer (nullable = true)\n",
      " |-- BMI: double (nullable = true)\n",
      " |-- Glucose: integer (nullable = true)\n",
      " |-- Insulin: double (nullable = true)\n",
      " |-- HOMA: double (nullable = true)\n",
      " |-- Leptin: double (nullable = true)\n",
      " |-- Adiponectin: double (nullable = true)\n",
      " |-- Resistin: double (nullable = true)\n",
      " |-- MCP.1: double (nullable = true)\n",
      " |-- Classification: integer (nullable = true)\n",
      "\n"
     ]
    }
   ],
   "source": [
    "df.printSchema()"
   ]
  },
  {
   "cell_type": "code",
   "execution_count": 10,
   "metadata": {},
   "outputs": [
    {
     "data": {
      "text/plain": [
       "[('Age', 'int'),\n",
       " ('BMI', 'double'),\n",
       " ('Glucose', 'int'),\n",
       " ('Insulin', 'double'),\n",
       " ('HOMA', 'double'),\n",
       " ('Leptin', 'double'),\n",
       " ('Adiponectin', 'double'),\n",
       " ('Resistin', 'double'),\n",
       " ('MCP.1', 'double'),\n",
       " ('Classification', 'int')]"
      ]
     },
     "execution_count": 10,
     "metadata": {},
     "output_type": "execute_result"
    }
   ],
   "source": [
    "df.dtypes"
   ]
  },
  {
   "cell_type": "code",
   "execution_count": 11,
   "metadata": {},
   "outputs": [
    {
     "name": "stdout",
     "output_type": "stream",
     "text": [
      "+-------+------------------+------------------+\n",
      "|summary|               Age|               BMI|\n",
      "+-------+------------------+------------------+\n",
      "|  count|               116|               116|\n",
      "|   mean| 57.30172413793103|27.582110827413807|\n",
      "| stddev|16.112765572452282| 5.020135768568436|\n",
      "|    min|                24|             18.37|\n",
      "|    max|                89|       38.57875854|\n",
      "+-------+------------------+------------------+\n",
      "\n"
     ]
    }
   ],
   "source": [
    "df.select([\"Age\", \"BMI\"]).describe().show()"
   ]
  },
  {
   "cell_type": "code",
   "execution_count": 12,
   "metadata": {},
   "outputs": [
    {
     "name": "stdout",
     "output_type": "stream",
     "text": [
      "+---+---+-------+-------+----+------+-----------+--------+-----+--------------+\n",
      "|Age|BMI|Glucose|Insulin|HOMA|Leptin|Adiponectin|Resistin|MCP.1|Classification|\n",
      "+---+---+-------+-------+----+------+-----------+--------+-----+--------------+\n",
      "+---+---+-------+-------+----+------+-----------+--------+-----+--------------+\n",
      "\n"
     ]
    }
   ],
   "source": [
    "df.filter(df.Insulin.isNull()).show()"
   ]
  },
  {
   "cell_type": "code",
   "execution_count": 13,
   "metadata": {},
   "outputs": [
    {
     "name": "stdout",
     "output_type": "stream",
     "text": [
      "['Age', 'BMI', 'Glucose', 'Insulin', 'HOMA', 'Leptin', 'Adiponectin', 'Resistin', 'MCP.1', 'Classification']\n"
     ]
    }
   ],
   "source": [
    "print(df.columns)"
   ]
  },
  {
   "cell_type": "code",
   "execution_count": 14,
   "metadata": {},
   "outputs": [],
   "source": [
    "df = df.withColumnRenamed(\"MCP.1\", \"MCP\")"
   ]
  },
  {
   "cell_type": "code",
   "execution_count": 15,
   "metadata": {},
   "outputs": [],
   "source": [
    "features = ['Age', 'BMI', 'Glucose', 'Insulin', 'HOMA', 'Leptin', 'Adiponectin', 'Resistin', 'MCP.1']"
   ]
  },
  {
   "cell_type": "code",
   "execution_count": 16,
   "metadata": {},
   "outputs": [],
   "source": [
    "# import the vector assembler\n",
    "from pyspark.ml.feature import VectorAssembler\n",
    "# define feature columns\n",
    "features = ['Age', 'BMI', 'Glucose', 'Insulin', 'HOMA', 'Leptin', 'Adiponectin', 'Resistin', 'MCP']\n",
    "# initiate the assembler\n",
    "vec_assembler = VectorAssembler(inputCols=features, outputCol=\"Fvec\")\n",
    "# apply the vector assembler to the data\n",
    "df=vec_assembler.transform(df)"
   ]
  },
  {
   "cell_type": "code",
   "execution_count": 17,
   "metadata": {},
   "outputs": [
    {
     "name": "stdout",
     "output_type": "stream",
     "text": [
      "+---+-----------+-------+-------+-----------+-------+-----------+--------+-------+--------------+--------------------+\n",
      "|Age|        BMI|Glucose|Insulin|       HOMA| Leptin|Adiponectin|Resistin|    MCP|Classification|                Fvec|\n",
      "+---+-----------+-------+-------+-----------+-------+-----------+--------+-------+--------------+--------------------+\n",
      "| 48|       23.5|     70|  2.707|0.467408667| 8.8071|     9.7024| 7.99585|417.114|             1|[48.0,23.5,70.0,2...|\n",
      "| 83|20.69049454|     92|  3.115|0.706897333| 8.8438|   5.429285| 4.06405|468.786|             1|[83.0,20.69049454...|\n",
      "| 82|23.12467037|     91|  4.498|1.009651067|17.9393|   22.43204| 9.27715|554.697|             1|[82.0,23.12467037...|\n",
      "| 68|21.36752137|     77|  3.226|0.612724933| 9.8827|    7.16956|  12.766| 928.22|             1|[68.0,21.36752137...|\n",
      "| 86|21.11111111|     92|  3.549|  0.8053864| 6.6994|    4.81924|10.57635| 773.92|             1|[86.0,21.11111111...|\n",
      "+---+-----------+-------+-------+-----------+-------+-----------+--------+-------+--------------+--------------------+\n",
      "only showing top 5 rows\n",
      "\n"
     ]
    }
   ],
   "source": [
    "df.show(5)"
   ]
  },
  {
   "cell_type": "code",
   "execution_count": 18,
   "metadata": {},
   "outputs": [],
   "source": [
    "# Split the data into training and test sets (30% held out for testing)\n",
    "trainData, testData = df.randomSplit([0.7, 0.3])"
   ]
  },
  {
   "cell_type": "code",
   "execution_count": 19,
   "metadata": {},
   "outputs": [],
   "source": [
    "from pyspark.ml.classification import DecisionTreeClassifier"
   ]
  },
  {
   "cell_type": "code",
   "execution_count": 20,
   "metadata": {},
   "outputs": [],
   "source": [
    "# train decision tree model\n",
    "dt = DecisionTreeClassifier(labelCol=\"Classification\", featuresCol=\"Fvec\")\n",
    "dt_model = dt.fit(trainData)\n",
    "# make predictions\n",
    "y_pred = dt_model.transform(testData)"
   ]
  },
  {
   "cell_type": "code",
   "execution_count": null,
   "metadata": {},
   "outputs": [],
   "source": []
  },
  {
   "cell_type": "code",
   "execution_count": 21,
   "metadata": {},
   "outputs": [
    {
     "name": "stdout",
     "output_type": "stream",
     "text": [
      "['Age', 'BMI', 'Glucose', 'Insulin', 'HOMA', 'Leptin', 'Adiponectin', 'Resistin', 'MCP', 'Classification', 'Fvec', 'rawPrediction', 'probability', 'prediction']\n"
     ]
    }
   ],
   "source": [
    "print(y_pred.columns)"
   ]
  },
  {
   "cell_type": "code",
   "execution_count": null,
   "metadata": {},
   "outputs": [],
   "source": []
  },
  {
   "cell_type": "code",
   "execution_count": 22,
   "metadata": {},
   "outputs": [
    {
     "name": "stdout",
     "output_type": "stream",
     "text": [
      "+--------------+--------------------+--------------+---------------+----------+\n",
      "|Classification|                Fvec| rawPrediction|    probability|prediction|\n",
      "+--------------+--------------------+--------------+---------------+----------+\n",
      "|             1|[24.0,18.67,88.0,...|[0.0,11.0,0.0]|  [0.0,1.0,0.0]|       1.0|\n",
      "|             1|[25.0,22.86,82.0,...|[0.0,11.0,0.0]|  [0.0,1.0,0.0]|       1.0|\n",
      "|             1|[28.0,35.85581466...|[0.0,11.0,0.0]|  [0.0,1.0,0.0]|       1.0|\n",
      "|             2|[34.0,24.24242424...|[0.0,11.0,0.0]|  [0.0,1.0,0.0]|       1.0|\n",
      "|             2|[38.0,22.4996371,...|[0.0,11.0,0.0]|  [0.0,1.0,0.0]|       1.0|\n",
      "|             1|[38.0,23.34,75.0,...|[0.0,11.0,0.0]|  [0.0,1.0,0.0]|       1.0|\n",
      "|             2|[40.0,27.63605442...| [0.0,0.0,3.0]|  [0.0,0.0,1.0]|       2.0|\n",
      "|             2|[42.0,21.35991456...|[0.0,11.0,0.0]|  [0.0,1.0,0.0]|       1.0|\n",
      "|             2|[42.0,29.296875,9...| [0.0,0.0,3.0]|  [0.0,0.0,1.0]|       2.0|\n",
      "|             2|[43.0,31.25,103.0...| [0.0,2.0,0.0]|  [0.0,1.0,0.0]|       1.0|\n",
      "|             2|[44.0,24.74,106.0...|[0.0,0.0,20.0]|  [0.0,0.0,1.0]|       2.0|\n",
      "|             2|[45.0,20.82999519...| [0.0,0.0,7.0]|  [0.0,0.0,1.0]|       2.0|\n",
      "|             1|[45.0,37.03560819...| [0.0,3.0,1.0]|[0.0,0.75,0.25]|       1.0|\n",
      "|             2|[46.0,22.21,86.0,...| [0.0,0.0,3.0]|  [0.0,0.0,1.0]|       2.0|\n",
      "|             2|[46.0,33.18,92.0,...| [0.0,3.0,1.0]|[0.0,0.75,0.25]|       1.0|\n",
      "|             1|[47.0,22.03,84.0,...| [0.0,0.0,3.0]|  [0.0,0.0,1.0]|       2.0|\n",
      "|             1|[48.0,23.5,70.0,2...| [0.0,0.0,3.0]|  [0.0,0.0,1.0]|       2.0|\n",
      "|             2|[48.0,32.46191136...|[0.0,0.0,20.0]|  [0.0,0.0,1.0]|       2.0|\n",
      "|             2|[49.0,21.36752137...| [0.0,0.0,7.0]|  [0.0,0.0,1.0]|       2.0|\n",
      "|             2|[52.0,30.8012487,...| [0.0,0.0,7.0]|  [0.0,0.0,1.0]|       2.0|\n",
      "+--------------+--------------------+--------------+---------------+----------+\n",
      "only showing top 20 rows\n",
      "\n"
     ]
    }
   ],
   "source": [
    "y_pred.select(['Classification', 'Fvec', 'rawPrediction', 'probability', 'prediction']).show()"
   ]
  },
  {
   "cell_type": "code",
   "execution_count": 23,
   "metadata": {},
   "outputs": [],
   "source": [
    "from pyspark.ml.evaluation import MulticlassClassificationEvaluator"
   ]
  },
  {
   "cell_type": "code",
   "execution_count": 24,
   "metadata": {},
   "outputs": [
    {
     "name": "stdout",
     "output_type": "stream",
     "text": [
      "0.6410256410256411\n"
     ]
    }
   ],
   "source": [
    "# Select (prediction, true label) and compute test error\n",
    "evaluator = MulticlassClassificationEvaluator(\n",
    "    labelCol=\"Classification\", predictionCol=\"prediction\", metricName=\"accuracy\")\n",
    "accuracy = evaluator.evaluate(y_pred)\n",
    "print(accuracy)"
   ]
  },
  {
   "cell_type": "code",
   "execution_count": 25,
   "metadata": {},
   "outputs": [
    {
     "name": "stdout",
     "output_type": "stream",
     "text": [
      "0.6410256410256411\n"
     ]
    }
   ],
   "source": [
    "accuracy = evaluator.evaluate(y_pred)\n",
    "print(accuracy)"
   ]
  },
  {
   "cell_type": "code",
   "execution_count": 26,
   "metadata": {},
   "outputs": [
    {
     "name": "stdout",
     "output_type": "stream",
     "text": [
      "DecisionTreeClassificationModel: uid=DecisionTreeClassifier_ce0e83122e3f, depth=5, numNodes=27, numClasses=3, numFeatures=9\n",
      "  If (feature 2 <= 96.5)\n",
      "   If (feature 0 <= 44.5)\n",
      "    Predict: 1.0\n",
      "   Else (feature 0 > 44.5)\n",
      "    If (feature 0 <= 59.5)\n",
      "     If (feature 7 <= 10.475764999999999)\n",
      "      If (feature 7 <= 8.124324999999999)\n",
      "       Predict: 2.0\n",
      "      Else (feature 7 > 8.124324999999999)\n",
      "       Predict: 1.0\n",
      "     Else (feature 7 > 10.475764999999999)\n",
      "      Predict: 2.0\n",
      "    Else (feature 0 > 59.5)\n",
      "     If (feature 7 <= 13.858215000000001)\n",
      "      If (feature 4 <= 0.5879497335)\n",
      "       Predict: 2.0\n",
      "      Else (feature 4 > 0.5879497335)\n",
      "       Predict: 1.0\n",
      "     Else (feature 7 > 13.858215000000001)\n",
      "      If (feature 1 <= 30.288408305)\n",
      "       Predict: 2.0\n",
      "      Else (feature 1 > 30.288408305)\n",
      "       Predict: 1.0\n",
      "  Else (feature 2 > 96.5)\n",
      "   If (feature 1 <= 36.651401815)\n",
      "    If (feature 8 <= 217.0245)\n",
      "     If (feature 2 <= 113.0)\n",
      "      Predict: 1.0\n",
      "     Else (feature 2 > 113.0)\n",
      "      Predict: 2.0\n",
      "    Else (feature 8 > 217.0245)\n",
      "     If (feature 3 <= 5.6545000000000005)\n",
      "      If (feature 5 <= 18.59835)\n",
      "       Predict: 2.0\n",
      "      Else (feature 5 > 18.59835)\n",
      "       Predict: 1.0\n",
      "     Else (feature 3 > 5.6545000000000005)\n",
      "      Predict: 2.0\n",
      "   Else (feature 1 > 36.651401815)\n",
      "    Predict: 1.0\n",
      "\n"
     ]
    }
   ],
   "source": [
    "# print model summary\n",
    "treeModel = dt_model.toDebugString\n",
    "print(treeModel)"
   ]
  },
  {
   "cell_type": "code",
   "execution_count": 27,
   "metadata": {},
   "outputs": [
    {
     "name": "stdout",
     "output_type": "stream",
     "text": [
      "+--------------+-----+\n",
      "|Classification|count|\n",
      "+--------------+-----+\n",
      "|             1|   52|\n",
      "|             2|   64|\n",
      "+--------------+-----+\n",
      "\n"
     ]
    }
   ],
   "source": [
    "df.groupBy(\"Classification\").count().show()"
   ]
  },
  {
   "cell_type": "code",
   "execution_count": null,
   "metadata": {},
   "outputs": [],
   "source": []
  }
 ],
 "metadata": {
  "kernelspec": {
   "display_name": "Python 3",
   "language": "python",
   "name": "python3"
  },
  "language_info": {
   "codemirror_mode": {
    "name": "ipython",
    "version": 3
   },
   "file_extension": ".py",
   "mimetype": "text/x-python",
   "name": "python",
   "nbconvert_exporter": "python",
   "pygments_lexer": "ipython3",
   "version": "3.7.4"
  }
 },
 "nbformat": 4,
 "nbformat_minor": 2
}
